{
 "cells": [
  {
   "cell_type": "markdown",
   "metadata": {},
   "source": [
    "# 유전알고리즘 최종 코드"
   ]
  },
  {
   "cell_type": "markdown",
   "metadata": {},
   "source": [
    "## 인공지능연구실 ( 이상근 교수님 )\n",
    "### 학번 : 2018108005\n",
    "### 석사과정 2기 손수현"
   ]
  },
  {
   "cell_type": "markdown",
   "metadata": {},
   "source": [
    "---------"
   ]
  },
  {
   "cell_type": "code",
   "execution_count": 4,
   "metadata": {},
   "outputs": [],
   "source": [
    "import random\n",
    "import numpy as np\n",
    "from random import shuffle\n",
    "import operator\n",
    "from scipy import spatial\n",
    "from multiprocessing import Pool\n",
    "from sklearn.metrics.pairwise import cosine_similarity\n",
    "import time\n",
    "from multiprocessing import Pool"
   ]
  },
  {
   "cell_type": "markdown",
   "metadata": {},
   "source": [
    "## 하이퍼 파라미터"
   ]
  },
  {
   "cell_type": "code",
   "execution_count": 5,
   "metadata": {},
   "outputs": [],
   "source": [
    "# 모집단 수\n",
    "POPULATION_SIZE = 1000\n",
    "\n",
    "# 최대 세대\n",
    "STOP_GENERATION = 500\n",
    "\n",
    "# 교차 연산 후 생성할 자손의 개수\n",
    "HOW_MANY_CROSSOVER = POPULATION_SIZE * 0.5\n",
    "\n",
    "# 지수귀문도 노드 개수\n",
    "NODE_NUM = 70\n",
    "\n",
    "ELITE_GENE = 10\n",
    "NOT_ELITE_GENE = POPULATION_SIZE - ELITE_GENE\n",
    "\n",
    "# Effective fitness를 계산하기 위해 유전자와 출현 빈도를 저장할 글로벌 변수\n",
    "GENE_AGE = {}\n"
   ]
  },
  {
   "cell_type": "markdown",
   "metadata": {},
   "source": [
    "## Representation\n",
    "- 차원 5"
   ]
  },
  {
   "cell_type": "code",
   "execution_count": 6,
   "metadata": {},
   "outputs": [],
   "source": [
    "hex_1 = [0, 1, 2, 4, 5, 6]\n",
    "hex_2 = [5, 6, 7, 9, 10, 11]\n",
    "hex_3 = [3, 4, 5, 11, 12, 13]\n",
    "hex_4 = [8, 9, 10, 20, 21, 22]\n",
    "hex_5 = [10, 11, 12, 18, 19, 20]\n",
    "hex_6 = [12, 13, 14, 16, 17, 18]\n",
    "hex_7 = [21, 22, 23, 25, 26, 27]\n",
    "hex_8 = [19, 20, 21, 27, 28, 29]\n",
    "hex_9 = [17, 18, 19, 29, 30, 31]\n",
    "hex_10 = [15, 16, 17, 31, 32, 33]\n",
    "hex_11 = [24, 25, 26, 43, 44, 45]\n",
    "hex_12 = [26, 27, 28, 41, 42, 43]\n",
    "hex_13 = [28, 29, 30, 39, 40, 41]\n",
    "hex_14 = [30, 31, 32, 37, 38, 39]\n",
    "hex_15 = [32, 33, 34, 35, 36, 37]\n",
    "hex_16 = [42, 43, 44, 46, 47, 48]\n",
    "hex_17 = [40, 41, 42, 48, 49, 50]\n",
    "hex_18 = [38, 39, 40, 50, 51, 52]\n",
    "hex_19 = [36, 37, 38, 52, 53, 54]\n",
    "hex_20 = [47, 48, 49, 59, 60, 61]\n",
    "hex_21 = [49, 50, 51, 57, 58, 59]\n",
    "hex_22 = [51, 52, 53, 55, 56, 57]\n",
    "hex_23 = [58, 59, 60, 62, 63, 64]\n",
    "hex_24 = [56, 57, 58, 64, 65, 66]\n",
    "hex_25 = [63, 64, 65, 67, 68, 69]"
   ]
  },
  {
   "cell_type": "code",
   "execution_count": 7,
   "metadata": {},
   "outputs": [],
   "source": [
    "hex_index = []\n",
    "hex_index.append(hex_1)\n",
    "hex_index.append(hex_2)\n",
    "hex_index.append(hex_3)\n",
    "hex_index.append(hex_4)\n",
    "hex_index.append(hex_5)\n",
    "hex_index.append(hex_6)\n",
    "hex_index.append(hex_7)\n",
    "hex_index.append(hex_8)\n",
    "hex_index.append(hex_9)\n",
    "hex_index.append(hex_10)\n",
    "hex_index.append(hex_11)\n",
    "hex_index.append(hex_12)\n",
    "hex_index.append(hex_13)\n",
    "hex_index.append(hex_14)\n",
    "hex_index.append(hex_15)\n",
    "hex_index.append(hex_16)\n",
    "hex_index.append(hex_17)\n",
    "hex_index.append(hex_18)\n",
    "hex_index.append(hex_19)\n",
    "hex_index.append(hex_20)\n",
    "hex_index.append(hex_21)\n",
    "hex_index.append(hex_22)\n",
    "hex_index.append(hex_23)\n",
    "hex_index.append(hex_24)\n",
    "hex_index.append(hex_25)"
   ]
  },
  {
   "cell_type": "markdown",
   "metadata": {},
   "source": [
    "# Initialization\n",
    "- 랜덤하게 숫자를 노드 개수만큼 뽑아서 리스트에 저장함.\n",
    "- 모집단 개수만큼 반복해 2차원 리스트 형태로 리턴함."
   ]
  },
  {
   "cell_type": "code",
   "execution_count": 10,
   "metadata": {},
   "outputs": [],
   "source": [
    "def initial_pop(population_size):\n",
    "    population = []\n",
    "    for i in range(population_size):\n",
    "        # 숫자를 랜덤으로 뽑아 리스트를 만듬. \n",
    "        # 1부터 70까지 랜덤으로 뽑은 리스트 값이 gene에 저장됨.\n",
    "        gene = random.sample(range(1,NODE_NUM+1), NODE_NUM)\n",
    "        # 모집단에 추가.\n",
    "        population.append(gene)\n",
    "    return np.array(population)"
   ]
  },
  {
   "cell_type": "markdown",
   "metadata": {},
   "source": [
    "# Crossover\n",
    "- 2차 교차를 구현함.\n",
    "- 랜덤하게 자를 2개의 위치를 선정한 뒤 유전자 값을 교체해줌"
   ]
  },
  {
   "cell_type": "code",
   "execution_count": 11,
   "metadata": {},
   "outputs": [],
   "source": [
    "def crossover(gene_, gene2_):\n",
    "    gene1 = gene_.copy()\n",
    "    gene2 = gene2_.copy()\n",
    "    # 랜덤으로 자를 위치를 정함.\n",
    "    two_point = sorted(random.sample(range(0,NODE_NUM), 2))\n",
    "    temp = gene1[0:two_point[0]]\n",
    "    gene1[0:two_point[0]] = gene2[0:two_point[0]]\n",
    "    gene2[0:two_point[0]] = temp\n",
    "    \n",
    "    temp = gene1[two_point[1]:]\n",
    "    gene1[two_point[1]:] = gene2[two_point[1]:]\n",
    "    gene2[two_point[1]:] = temp\n",
    "    return gene1, gene2"
   ]
  },
  {
   "cell_type": "markdown",
   "metadata": {},
   "source": [
    "# Repairment\n",
    "- 범위에서 벗어나는 숫자를 0으로, 혹은 중복해서 나오는 숫자를 0으로 바꿈.\n",
    "- 한 번만 나온 숫자들을 따로 변수에 저장.\n",
    "- 1부터 70까지 숫자 중, 한 번만 나온 숫자들을 제외하고 0의 값에 채워야 할 숫자를 정함.\n",
    "- 랜덤으로 숫자를 채워줌."
   ]
  },
  {
   "cell_type": "code",
   "execution_count": 12,
   "metadata": {},
   "outputs": [],
   "source": [
    "def repairment(gene_):\n",
    "    gene = gene_.copy()\n",
    "    gene_element = set(gene)\n",
    "    unique_val = []\n",
    "    for idx, gene_element in enumerate(gene):\n",
    "        # 범위에서 벗어나는 숫자들을 0으로 바꿔줌.\n",
    "        if gene_element < 1 or gene_element > NODE_NUM : \n",
    "            gene[idx] = 0\n",
    "            continue\n",
    "        if gene_element == 0: continue\n",
    "        # 처음 등장하는 숫자를 변수에 저장함.\n",
    "        if gene_element not in unique_val:\n",
    "            unique_val.append(gene_element)\n",
    "            continue\n",
    "            \n",
    "        # 중복해서 나온 경우, 0으로 바꾸고 unique_val 변수에서 해당 숫자를 삭제.\n",
    "        tmp_idx = np.where(gene == gene_element)[0]\n",
    "        gene[tmp_idx] = 0\n",
    "        unique_val.remove(gene_element)\n",
    "        \n",
    "    # 1부터 70 사이에 unique_val에 없는 숫자들로만 가져옴. ( 0 위치에 채워 넣어야 할 숫자 )\n",
    "    fill_element = [i for i in range(1, NODE_NUM+1, 1) if i not in unique_val]\n",
    "    # 리스트를 섞어줌\n",
    "    shuffle(fill_element)\n",
    "    # 유전자에서 0의 위치에 랜덤하게 섞은 숫자들을 채워 넣음.\n",
    "    for idx, gene_idx in enumerate(np.where(gene==0)[0]):\n",
    "        gene[gene_idx] = fill_element[idx]\n",
    "    return gene"
   ]
  },
  {
   "cell_type": "markdown",
   "metadata": {},
   "source": [
    "# Mutation\n",
    "- 랜덤으로 0에서 100 사이에 소수를 뽑음.\n",
    "- 1일 때랑 70일때는 제외.\n",
    "- 33보다 작으면 1 증가, 67보다 크면 1 감소"
   ]
  },
  {
   "cell_type": "code",
   "execution_count": 13,
   "metadata": {},
   "outputs": [],
   "source": [
    "def mutation(gene_):\n",
    "    gene = gene_.copy()\n",
    "    #print(\"Mutation : \" + str(sum(gene)))\n",
    "    for idx in range(len(gene)):\n",
    "        if gene[idx] == 1 or gene[idx] == NODE_NUM : continue\n",
    "        random_num = random.randint(0, 100)\n",
    "        if random_num < 33:\n",
    "            gene[idx] += 1\n",
    "            continue\n",
    "        if random_num >67:\n",
    "            gene[idx] -= 1\n",
    "            continue\n",
    "    return repairment(gene)"
   ]
  },
  {
   "cell_type": "markdown",
   "metadata": {},
   "source": [
    "# Evaluation\n",
    "- Effective fitness와 fitness를 구현\n",
    "- 글로벌 변수 GENE_AGE에 저장된 유전자로부터 빈도수를 가져와 effective fitness를 계산함.\n",
    "- GENE_AGE에 없으면 age는 0으로 함.\n"
   ]
  },
  {
   "cell_type": "code",
   "execution_count": 14,
   "metadata": {},
   "outputs": [],
   "source": [
    "def effective_fitness(gene_, hex_index):\n",
    "    gene_age = 0\n",
    "    gene = gene_.copy()\n",
    "    gene = np.array(gene)\n",
    "    # GENE_AGE 딕셔너리 변수에 유전자가 있으면, 유전자의 age를 가져옴.\n",
    "    if str(gene) in GENE_AGE.keys():\n",
    "        gene_age = GENE_AGE[str(gene)]\n",
    "\n",
    "    # 0.004는 차원 5일 때의 육각형 25개에 10을 곱한 뒤 역수를 취한 값. ( 논문 참고 )\n",
    "    effective_fitness = fitness_eval(gene, hex_index) - 0.004 * gene_age\n",
    "    \n",
    "    # 유전자 하나에 대한 실수값을 리턴\n",
    "    return effective_fitness\n"
   ]
  },
  {
   "cell_type": "code",
   "execution_count": 15,
   "metadata": {},
   "outputs": [],
   "source": [
    "def effective_fitness_dict(population, hex_index):\n",
    "    # 추후 대치(replacement)에서 사용하기 위해 유전자별로 effective fitness를 계산해 딕셔너리 자료구조를 리턴함.\n",
    "    # key는 유전자. value는 effective fitness가 들어감.\n",
    "    ef_dict = {}\n",
    "    for idx, gene in enumerate(population):\n",
    "        gene_age = 0\n",
    "        if str(gene) in GENE_AGE.keys():\n",
    "            gene_age = GENE_AGE[str(gene)]\n",
    "        ef_dict[idx] = fitness_eval(gene, hex_index) - 0.004 * gene_age\n",
    "    return ef_dict\n"
   ]
  },
  {
   "cell_type": "code",
   "execution_count": 16,
   "metadata": {},
   "outputs": [],
   "source": [
    "def fitness_eval(gene, hex_index):\n",
    "    # 일반적으로 유전자 자체에 대한 fitness를 평가하기 위한 함수.\n",
    "    # 각각의 육각형에 대한 분산에 마이너스를 곱한 값을 리턴.\n",
    "    hex_sum = []\n",
    "    for i in hex_index:\n",
    "        hex_sum.append(sum(np.array(gene)[i]))\n",
    "    return -np.var(hex_sum)"
   ]
  },
  {
   "cell_type": "markdown",
   "metadata": {},
   "source": [
    "# Replacement"
   ]
  },
  {
   "cell_type": "markdown",
   "metadata": {},
   "source": [
    "- 입력으로 들어오는 popoulation은 crossover로 생성된 자손 개수만큼 더해진 population임.\n",
    "- 예) population : 500, children : 250 => replacement에 들어오는 population 개수는 750개\n",
    "- 최종 보고서에는 750개 중, effective fitness 500개로 구성된 새로운 population이 다음 세대가 됨.\n",
    "- 이외에도, 랜덤으로 500개를 뽑는 방법, 엘리티즘을 사용한 방법 등을 사용해봄.(최종보고서 미기입)"
   ]
  },
  {
   "cell_type": "code",
   "execution_count": 17,
   "metadata": {},
   "outputs": [],
   "source": [
    "def replacement(population, hex_index):\n",
    "    # 버려야 할 유전자 개수를 변수에 저장함. \n",
    "    drop_gene_num = len(population) - POPULATION_SIZE\n",
    "    \n",
    "    # 유전자별로 effective fitness 정보가 있는 딕셔너리 자료구조\n",
    "    ef_gene_dict = effective_fitness_dict(population, hex_index)\n",
    "    \n",
    "    # effective fitness가 낮은 순서대로 정렬.\n",
    "    sorted_ef_gene_dict = sorted(ef_gene_dict.items(), key=operator.itemgetter(1))\n",
    "    # 유전자 index를 가져옴.\n",
    "    genes_ = [i[0] for i in sorted_ef_gene_dict]\n",
    "    \n",
    "    # effective fitness가 낮은 유전자의 인덱스를 저장.\n",
    "    drop_gene_idx = genes_[:drop_gene_num]\n",
    "    \n",
    "    next_population = [gene for idx, gene in enumerate(population) if idx not in drop_gene_idx]\n",
    "    return next_population"
   ]
  },
  {
   "cell_type": "code",
   "execution_count": 18,
   "metadata": {},
   "outputs": [],
   "source": [
    "def replacement_random(population, hex_index):\n",
    "    \n",
    "    drop_gene_num = POPULATION_SIZE - len(population)\n",
    "    ef_gene_dict = effective_fitness_dict(population, hex_index)\n",
    "    sorted_ef_gene_dict = sorted(ef_gene_dict.items(), key=operator.itemgetter(1))\n",
    "    genes_ = [i[0] for i in sorted_ef_gene_dict]\n",
    "    drop_gene_idx = genes_[:drop_gene_num]\n",
    "    \n",
    "    next_population = [gene for idx, gene in enumerate(population) if idx not in drop_gene_idx]\n",
    "    \n",
    "    select_idx = random.sample(range(0,len(population)), NOT_ELITE_GENE)\n",
    "\n",
    "    return next_population"
   ]
  },
  {
   "cell_type": "code",
   "execution_count": 19,
   "metadata": {},
   "outputs": [],
   "source": [
    "def Elitism_replacement(population, hex_index, eliete_num):\n",
    "\n",
    "    effective_fitness_gene = effective_fitness()\n",
    "    best_genes = sorted(effective_fitness_gene.items(), key=operator.itemgetter(1), reverse=True)\n",
    "    genes_ = [i[0] for i in best_genes]\n",
    "    elite = genes_[:ELITE_GENE]\n",
    "    \n",
    "    not_elite = [i for i in genes_ if i not in elite]\n",
    "    select_idx = random.sample(range(0,len(not_elite)), NOT_ELITE_GENE)\n",
    "    not_elite = [gene for i, gene in enumerate(not_elite) if i in select_idx]\n",
    "    next_population = np.append(elite, not_elite, axis=0)\n",
    "\n",
    "    return next_population"
   ]
  },
  {
   "cell_type": "markdown",
   "metadata": {},
   "source": [
    "# Consecutive_exchange"
   ]
  },
  {
   "cell_type": "markdown",
   "metadata": {},
   "source": [
    "- 논문을 구현. \n",
    "- 값의 차이가 1 혹은 N일 때 위치를 바꿨을 때 fitness의 증가가 있으면 위치를 바꿔줌."
   ]
  },
  {
   "cell_type": "code",
   "execution_count": 20,
   "metadata": {},
   "outputs": [],
   "source": [
    "def change(idx1, idx2, gene):\n",
    "    gene_ = gene.copy()\n",
    "    tmp = gene_[idx1]\n",
    "    gene_[idx1] = gene_[idx2]\n",
    "    gene_[idx2] = tmp\n",
    "    return gene_"
   ]
  },
  {
   "cell_type": "code",
   "execution_count": 21,
   "metadata": {},
   "outputs": [],
   "source": [
    "def gain(idx1, idx2, gene):\n",
    "    before_eval = fitness_eval(gene, hex_index)\n",
    "    gene_ = gene.copy()\n",
    "    k = gene_[idx1]\n",
    "    gene_[idx1] = gene_[idx2]\n",
    "    gene_[idx2] = k\n",
    "    after_eval = fitness_eval(gene_, hex_index)\n",
    "    # fitness가 같으면 0을 리턴.\n",
    "    if before_eval == after_eval:\n",
    "        return 0\n",
    "    # fitness가 증가하면 1을 리턴, 감소하면 -1을 리턴.\n",
    "    result = 1 if before_eval - after_eval < 0 else -1\n",
    "    return result"
   ]
  },
  {
   "cell_type": "code",
   "execution_count": 22,
   "metadata": {},
   "outputs": [],
   "source": [
    "def M_consecutive_exchange(gene):\n",
    "    changed=True\n",
    "    while(changed):\n",
    "        changed=False\n",
    "        for i in range(len(gene)):\n",
    "            num = i+1\n",
    "            if num == NODE_NUM: continue\n",
    "            l0 = np.where(np.array(gene)==num)[0][0]\n",
    "            l1 = np.where(np.array(gene)==num+1)[0][0]\n",
    "            # fitness가 증가하면 값을 바꿔줌.\n",
    "            if gain(l0, l1, gene) == 1:\n",
    "                gene = change(l0, l1, gene)\n",
    "                changed=True\n",
    "\n",
    "    return gene"
   ]
  },
  {
   "cell_type": "code",
   "execution_count": 23,
   "metadata": {},
   "outputs": [],
   "source": [
    "def M_consecutive_exchange_2(gene):\n",
    "    changed=True\n",
    "    while(changed):\n",
    "        changed=False\n",
    "        for i in range(len(gene)):\n",
    "            num = i+1\n",
    "            if num == NODE_NUM-1: continue\n",
    "            l0 = np.where(np.array(gene)==num)[0][0]\n",
    "            l1 = np.where(np.array(gene)==num+2)[0][0]\n",
    "            if gain(l0, l1, gene) == 1:\n",
    "                gene = change(l0, l1, gene)\n",
    "                changed=True\n",
    "\n",
    "    return gene"
   ]
  },
  {
   "cell_type": "code",
   "execution_count": 24,
   "metadata": {},
   "outputs": [],
   "source": [
    "def M_consecutive_exchange_3(gene):\n",
    "    changed=True\n",
    "    while(changed):\n",
    "        changed=False\n",
    "        for i in range(len(gene)):\n",
    "            num = i+1\n",
    "            if num == NODE_NUM-2: continue\n",
    "            l0 = np.where(np.array(gene)==num)[0][0]\n",
    "            l1 = np.where(np.array(gene)==num+3)[0][0]\n",
    "            if gain(l0, l1, gene) == 1:\n",
    "                gene = change(l0, l1, gene)\n",
    "                changed=True\n",
    "\n",
    "    return gene"
   ]
  },
  {
   "cell_type": "code",
   "execution_count": 48,
   "metadata": {},
   "outputs": [],
   "source": [
    "def M_consecutive_exchange_tabu(gene_):\n",
    "    T = []\n",
    "    gene = gene_.copy()\n",
    "    changed=True\n",
    "    while(changed):\n",
    "        changed=False\n",
    "        for i in range(len(gene)):\n",
    "            num = i+1\n",
    "            if num == NODE_NUM: continue\n",
    "            l0 = np.where(np.array(gene)==num)[0][0]\n",
    "            l1 = np.where(np.array(gene)==num+1)[0][0]\n",
    "            if gain(l0, l1, gene) == 1:\n",
    "                gene = change(l0, l1, gene)\n",
    "                T = [gene]\n",
    "                changed=True\n",
    "\n",
    "            elif gain(l0, l1, gene) == 0 and sum([sum(i==gene) == NODE_NUM for i in T]) <= 1:\n",
    "                T.append(gene)\n",
    "                gene = change(l0, l1, gene)\n",
    "                changed=True\n",
    "    return gene"
   ]
  },
  {
   "cell_type": "markdown",
   "metadata": {},
   "source": [
    "# NearbySearch"
   ]
  },
  {
   "cell_type": "code",
   "execution_count": 22,
   "metadata": {},
   "outputs": [],
   "source": [
    "def NearbySearch(gene):\n",
    "    hex_mean_total = [sum(np.array(gene)[i]) for i in hex_index]\n",
    "    hex_mean_total = np.mean(hex_mean_total)\n",
    "    origin_fitness = fitness_eval(gene, hex_index)\n",
    "    #assert(False)\n",
    "    gene_error_list = []\n",
    "    for gene_index in range(len(gene)):\n",
    "        hex_gene_index = [idx for idx, i in enumerate(hex_index) if gene_index in i]\n",
    "        gene_error = [sum(np.array(gene)[i]) - hex_mean_total  for i in np.array(hex_index)[hex_gene_index]]\n",
    "        gene_error_list.append(gene_error[0])\n",
    "        #assert(False)\n",
    "    \n",
    "    low_point = pd.Series(gene_error_list).quantile([0.2, 0.8]).values[0]\n",
    "    high_point = pd.Series(gene_error_list).quantile([0.2, 0.8]).values[1]\n",
    "    small_error_idx = ([idx for idx, i in enumerate(gene_error_list) if i <= low_point])\n",
    "    large_error_idx = ([idx for idx, i in enumerate(gene_error_list) if i >= high_point])\n",
    "    pd.Series(gene_error_list).hist()\n",
    "    modified_gene = [i+1 if idx in small_error_idx and i < 69  else i for idx, i in enumerate(gene) ]\n",
    "    modified_gene = [i-1 if idx in large_error_idx and i >2  else i for idx, i in enumerate(gene) ]\n",
    "    modified_gene = repairment(np.array(modified_gene))\n",
    "    \n",
    "    gene2 = M_consecutive_exchange(modified_gene)\n",
    "    gene2_fitness = fitness_eval(gene2, hex_index)\n",
    "    #print(\"origin fitness : \" + str(origin_fitness))\n",
    "    #print(\"gene2 fitness : \" + str(gene2_fitness))\n",
    "    if origin_fitness <= gene2_fitness:\n",
    "        #print(\"Gene2 is better\")\n",
    "        return gene2\n",
    "    else:\n",
    "        return gene"
   ]
  },
  {
   "cell_type": "code",
   "execution_count": 23,
   "metadata": {},
   "outputs": [],
   "source": [
    "def NearbySearch_origin(gene):\n",
    "    hex_mean_total = [sum(np.array(gene)[i]) for i in hex_index]\n",
    "    hex_mean_total = np.mean(hex_mean_total)\n",
    "    origin_fitness = fitness_eval(gene, hex_index)\n",
    "    gene_error_list = []\n",
    "    for gene_index in range(len(gene)):\n",
    "        hex_gene_index = [idx for idx, i in enumerate(hex_index) if gene_index in i]\n",
    "        gene_error = [sum(np.array(gene)[i]) - hex_mean_total  for i in np.array(hex_index)[hex_gene_index]]\n",
    "        gene_error_list.append(gene_error[0])\n",
    "\n",
    "    lowest_error_val = min(gene_error_list)\n",
    "    highest_error_val = max(gene_error_list)\n",
    "    low_point = np.where(np.array(gene_error_list) == lowest_error_val)[0]\n",
    "    high_point = np.where(np.array(gene_error_list) == highest_error_val)[0]\n",
    "    modified_gene = gene.copy()\n",
    "    modified_gene[low_point] += 1\n",
    "    modified_gene[high_point] -=1\n",
    "    modified_gene = repairment(np.array(modified_gene))\n",
    "    gene2 = M_consecutive_exchange(modified_gene)\n",
    "    gene2_fitness = fitness_eval(gene2, hex_index)\n",
    "    if origin_fitness <= gene2_fitness:\n",
    "        return gene2\n",
    "    else:\n",
    "        return gene"
   ]
  },
  {
   "cell_type": "markdown",
   "metadata": {},
   "source": [
    "# Age\n",
    "- 모든 연산이 끝나고, 글로별 변수 GENE_AGE에 모집단을 추가함.\n",
    "- GENE_AGE에 유전자가 있으면 value값에 1을 더하고, key에 등록이 안된 경우 0으로 초기화함"
   ]
  },
  {
   "cell_type": "code",
   "execution_count": 24,
   "metadata": {},
   "outputs": [],
   "source": [
    "def aging_gene(population):\n",
    "    if GENE_AGE == {}:\n",
    "        for gene in population:\n",
    "            GENE_AGE[str(gene)] = 0\n",
    "        return\n",
    "    for gene in population:\n",
    "        if str(gene) not in GENE_AGE.keys():\n",
    "            GENE_AGE[str(gene)] = 0\n",
    "        GENE_AGE[str(gene)] += 1\n",
    "    return"
   ]
  },
  {
   "cell_type": "markdown",
   "metadata": {},
   "source": [
    "# 연산자 합침\n",
    "- 부모 인덱스 2개만 받으면 모집단에서 부모 유전자를 가져와서 교차, 변이, 지역최적화, 토너먼트 연산을 수행\n",
    "- 자손 2개 중 적합도가 높은 자손 유전자를 리턴함"
   ]
  },
  {
   "cell_type": "code",
   "execution_count": 25,
   "metadata": {},
   "outputs": [],
   "source": [
    "def crossover_mutation_localopt_tournament(p1_, p2_):\n",
    "    population = POPULATION.copy()\n",
    "    p1 = population[p1_].copy()\n",
    "    p2 = population[p2_].copy()\n",
    "        \n",
    "    c1, c2 = crossover(p1, p2)\n",
    "    c1 = mutation(c1)\n",
    "    c1 = M_consecutive_exchange(c1)\n",
    "    c2 = M_consecutive_exchange(c2)\n",
    "    c1_fitness = fitness_eval(c1, hex_index)\n",
    "    c2_fitness = fitness_eval(c2, hex_index)\n",
    "    \n",
    "    if c1_fitness >= c2_fitness:\n",
    "        #POPULATION.append(c1)\n",
    "        return c1\n",
    "    else: \n",
    "        #POPULATION.append(c2)\n",
    "        return c2\n",
    "    "
   ]
  },
  {
   "cell_type": "markdown",
   "metadata": {},
   "source": [
    "# 코사인 선택\n",
    "- 유전자를 입력으로 받아, 모집단 중 코사인 유사도가 가장 떨어진 유전자를 선택해 교차, 변이, 지역최적화, 토너먼트를 연산을 수행\n",
    "- 2개의 자손 중 적합도가 높은 유전자를 리턴"
   ]
  },
  {
   "cell_type": "code",
   "execution_count": 27,
   "metadata": {},
   "outputs": [],
   "source": [
    "def cosine_selection_crossover_mutation_localopt_tournament(gene_):\n",
    "    cosine_similarity_dict = {}\n",
    "    for idx, gene in enumerate(POPULATION):\n",
    "        similarity = cosine_similarity([gene_], [gene])\n",
    "        cosine_similarity_dict[idx] = similarity[0][0]\n",
    "    smallest_similarity = sorted(cosine_similarity_dict.items(), key=operator.itemgetter(1))[0]\n",
    "    smallest_similarity_idx = smallest_similarity[0]\n",
    "    smallest_similarity_gene = POPULATION[smallest_similarity_idx]\n",
    "    \n",
    "    c1, c2 = crossover(gene_, smallest_similarity_gene)\n",
    "    c1 = mutation(c1)\n",
    "    c2 = mutation(c2)\n",
    "    c1 = M_consecutive_exchange(c1)\n",
    "    c2 = M_consecutive_exchange(c2)\n",
    "    c1_fitness = fitness_eval(c1, hex_index)\n",
    "    c2_fitness = fitness_eval(c2, hex_index)\n",
    "    \n",
    "    if c1_fitness >= c2_fitness:\n",
    "        return c1\n",
    "    else:\n",
    "        return c2\n",
    "    "
   ]
  },
  {
   "cell_type": "markdown",
   "metadata": {},
   "source": [
    "# 코사인 선택 후 교체 연산\n",
    "- 코사인 선택으로 생성된 자손은 fitness값이 낮아 기존 교체 연산에 넣으면 다음 세대에 살아남지 못할 확률이 큼.\n",
    "- 코사인 선택으로 생성된 자손은 다음 세대에 넘어갈 때 생존시키고, 추가된 부분은 기존 모집단에서 랜덤으로 교체함"
   ]
  },
  {
   "cell_type": "code",
   "execution_count": 29,
   "metadata": {},
   "outputs": [],
   "source": [
    "def replacement_random(population, saving_children):\n",
    "    child_num = len(saving_children)\n",
    "    \n",
    "    random_idx = (random.sample(range(0, len(population)), len(population) - child_num))\n",
    "    population = population[random_idx]\n",
    "    population = np.append(population, saving_children, axis=0)\n",
    "    print(\"Replace random population len : \" + str(len(population)))\n",
    "    return population"
   ]
  },
  {
   "cell_type": "markdown",
   "metadata": {},
   "source": [
    "# 적합도 높은 유전자 선택\n",
    "- 일반적인 fitness함수로 현재 모집단 중 적합도가 가장 높은 K개의 유전자를 리턴받음"
   ]
  },
  {
   "cell_type": "code",
   "execution_count": 30,
   "metadata": {},
   "outputs": [],
   "source": [
    "def top_k_gene(k_num, population, hex_index):\n",
    "    fitness_dict = {}\n",
    "    for idx,gene in enumerate(population):\n",
    "        gene_fitness = fitness_eval(gene, hex_index)\n",
    "        fitness_dict[idx] = gene_fitness\n",
    "    sorted_fitness_dict = sorted(fitness_dict.items(), key=operator.itemgetter(1), reverse=True)\n",
    "    top_k_genes = [i[0] for i in sorted_fitness_dict][:k_num]\n",
    "    return population[top_k_genes]"
   ]
  },
  {
   "cell_type": "markdown",
   "metadata": {},
   "source": [
    "-----------"
   ]
  },
  {
   "cell_type": "markdown",
   "metadata": {},
   "source": [
    "# 유전알고리즘 종합"
   ]
  },
  {
   "cell_type": "code",
   "execution_count": 26,
   "metadata": {},
   "outputs": [],
   "source": [
    "selection_fitness = []\n",
    "fitness_mean = []\n",
    "fitness_generation = []\n",
    "POPULATION = []\n",
    "shaking_fitness = []\n",
    "\n",
    "def find_solution(seed):\n",
    "    global POPULATION\n",
    "    global GENE_AGE\n",
    "    global selection_fitness\n",
    "    global fitness_mean\n",
    "    global fitness_generation\n",
    "    \n",
    "    \n",
    "    population_size = POPULATION_SIZE\n",
    "    last_generation = STOP_GENERATION\n",
    "\n",
    "    GENE_AGE.clear()\n",
    "    population = initial_pop(POPULATION_SIZE)\n",
    "    pool = Pool(processes = 25)\n",
    "    population = np.array(pool.map(M_consecutive_exchange, population))\n",
    "    pool.close()\n",
    "    pool.join()\n",
    "    aging_gene(population)\n",
    "    print(\"Initialize is end\")\n",
    "    \n",
    "    \n",
    "    for generation in range(last_generation):\n",
    "        print(\"==\"*30)\n",
    "        print(\"Generation : \" + str(generation))\n",
    "        start = time.time()\n",
    "        # Selection index\n",
    "        parents_selection_idx = []\n",
    "        for i in range(int(HOW_MANY_CROSSOVER)):\n",
    "            parents_selection_idx.append(sorted(random.sample(range(0, POPULATION_SIZE), 2)))\n",
    "        \n",
    "        POPULATION = population.copy()\n",
    "        start_cmlt = time.time()\n",
    "        pool = Pool(processes = 25)\n",
    "        children = np.array(pool.starmap(crossover_mutation_localopt_tournament, parents_selection_idx))\n",
    "        pool.close()\n",
    "        pool.join()\n",
    "        end_cmlt = time.time()\n",
    "        print(\"CMLT is done : \" + str(end_cmlt - start_cmlt))\n",
    "        population = np.append(population, children, axis=0)\n",
    "        start_replace = time.time()\n",
    "        \n",
    "        population = replacement(population, hex_index)\n",
    "        end_replace = time.time()\n",
    "        print(\"Replacement is done : \" + str(end_replace - start_replace))\n",
    "        POPULATION = population.copy()\n",
    "        for gene in population:\n",
    "            fitness_gene = fitness_eval(gene, hex_index)\n",
    "            if fitness_gene == 0:\n",
    "                print(\"Find solution\")\n",
    "                return population\n",
    "        \n",
    "        # nearby search\n",
    "        start_nearby = time.time()\n",
    "        pool = Pool(processes = 50)\n",
    "        population = np.array(pool.map(NearbySearch_origin, population))\n",
    "        pool.close()\n",
    "        pool.join()\n",
    "        end_nearby = time.time()\n",
    "        print(\"Nearbysearch is done : \" + str(end_nearby - start_nearby))\n",
    "        fitness_ = []\n",
    "        max_fitness = -100\n",
    "        max_fitness_gene = []\n",
    "        for gene in population:\n",
    "            fitness_gene = fitness_eval(gene, hex_index)\n",
    "            if fitness_gene > max_fitness :\n",
    "                max_fitness = fitness_gene\n",
    "                max_fitness_gene = gene\n",
    "            if fitness_gene == 0:\n",
    "                print(\"Find solution\")\n",
    "                return population\n",
    "            fitness_.append(fitness_gene)\n",
    "        print(\"Max fitness : \" + str(max(fitness_)))\n",
    "        print(\"Mean fitness : \" + str(np.mean(fitness_)))\n",
    "        print(\"Variance fitness : \" + str(np.var(fitness_)))\n",
    "        print(\"Max fitness gene : \" + str(max_fitness_gene))\n",
    "        print(\"Sum of Max fitness gene : \" + str(sum(max_fitness_gene)))\n",
    "        print([sum(np.array(max_fitness_gene)[i]) for i in hex_index])\n",
    "        fitness_mean.append(np.mean(fitness_))\n",
    "            \n",
    "        if generation != 0 and generation % 100 == 0:\n",
    "            print(\"fitness_mean's variation : \" + str(np.var(fitness_mean)))\n",
    "            if np.var(fitness_mean) < 0.1:\n",
    "                print(\"\\n Shaking \\n\")\n",
    "                start_shaking = time.time()\n",
    "                top_k_genes_ = top_k_gene(150, population, hex_index)\n",
    "                POPULATION = population.copy()\n",
    "               \n",
    "                pool = Pool(processes = 25)\n",
    "                cosine_selection_children = np.array(pool.map(cosine_selection_crossover_mutation_localopt_tournament, top_k_genes_))\n",
    "                pool.close()\n",
    "                pool.join()\n",
    "                \n",
    "                population = replacement_random(population, cosine_selection_children)\n",
    "                POPULATION = population.copy()\n",
    "                end_shaking = time.time()\n",
    "                print(\"Shaking is done : \" + str(end_shaking - start_shaking))\n",
    "                for gene in population:\n",
    "                    fitness_gene = fitness_eval(gene, hex_index)\n",
    "                    if fitness_gene == 0:\n",
    "                        print(\"Find solution\")\n",
    "                        return population\n",
    "                    fitness_.append(fitness_gene)\n",
    "                shaking_fitness.append(fitness_gene)\n",
    "            else:\n",
    "                fitness_mean = []\n",
    "        fitness_generation.append(fitness_)\n",
    "                \n",
    "        aging_gene(population)\n",
    "        end = time.time()\n",
    "        print(\"Generation End Time : \" + str(end-start))\n",
    "    return population"
   ]
  },
  {
   "cell_type": "code",
   "execution_count": null,
   "metadata": {
    "scrolled": true
   },
   "outputs": [],
   "source": [
    "%%time\n",
    "# 해 찾기\n",
    "solution = find_solution(1)"
   ]
  },
  {
   "cell_type": "markdown",
   "metadata": {},
   "source": [
    "# Plot"
   ]
  },
  {
   "cell_type": "code",
   "execution_count": 38,
   "metadata": {},
   "outputs": [],
   "source": [
    "#invite people for the Kaggle party\n",
    "import pandas as pd\n",
    "import matplotlib.pyplot as plt\n",
    "import seaborn as sns\n",
    "import numpy as np\n",
    "from scipy.stats import norm\n",
    "from sklearn.preprocessing import StandardScaler\n",
    "from scipy import stats\n",
    "import warnings\n",
    "warnings.filterwarnings('ignore')\n",
    "%matplotlib inline"
   ]
  },
  {
   "cell_type": "markdown",
   "metadata": {},
   "source": [
    "### 세대별 평균 적합도를 나타낸 그래프"
   ]
  },
  {
   "cell_type": "code",
   "execution_count": 39,
   "metadata": {
    "scrolled": true
   },
   "outputs": [
    {
     "data": {
      "text/plain": [
       "<matplotlib.axes._subplots.AxesSubplot at 0x7ffd882a4668>"
      ]
     },
     "execution_count": 39,
     "metadata": {},
     "output_type": "execute_result"
    },
    {
     "data": {
      "image/png": "[encoded data removed]",
      "text/plain": [
       "<matplotlib.figure.Figure at 0x7fffacfa7630>"
      ]
     },
     "metadata": {},
     "output_type": "display_data"
    }
   ],
   "source": [
    "pd.Series([np.mean(sorted(i, reverse=True)) for i in fitness_generation]).plot()"
   ]
  },
  {
   "cell_type": "markdown",
   "metadata": {},
   "source": [
    "### 세대별 적합도가 높은 100개의 유전자의 평균 적합도를 나타낸 그래프"
   ]
  },
  {
   "cell_type": "code",
   "execution_count": 40,
   "metadata": {},
   "outputs": [
    {
     "data": {
      "text/plain": [
       "<matplotlib.axes._subplots.AxesSubplot at 0x7ffd882a4780>"
      ]
     },
     "execution_count": 40,
     "metadata": {},
     "output_type": "execute_result"
    },
    {
     "data": {
      "image/png": "[encoded data removed]",
      "text/plain": [
       "<matplotlib.figure.Figure at 0x7ffd78acc2b0>"
      ]
     },
     "metadata": {},
     "output_type": "display_data"
    }
   ],
   "source": [
    "pd.Series([np.mean(sorted(i, reverse=True)[0:100]) for i in fitness_generation]).plot()"
   ]
  },
  {
   "cell_type": "markdown",
   "metadata": {},
   "source": [
    "### 세대별 분산을 나타내는 그래프"
   ]
  },
  {
   "cell_type": "code",
   "execution_count": 41,
   "metadata": {
    "scrolled": true
   },
   "outputs": [
    {
     "data": {
      "text/plain": [
       "<matplotlib.axes._subplots.AxesSubplot at 0x7ffd78acc9b0>"
      ]
     },
     "execution_count": 41,
     "metadata": {},
     "output_type": "execute_result"
    },
    {
     "data": {
      "image/png": "[encoded data removed]",
      "text/plain": [
       "<matplotlib.figure.Figure at 0x7ffd3a240898>"
      ]
     },
     "metadata": {},
     "output_type": "display_data"
    }
   ],
   "source": [
    "pd.Series([np.var(sorted(i, reverse=True)) for i in fitness_generation]).plot()"
   ]
  },
  {
   "cell_type": "markdown",
   "metadata": {},
   "source": [
    "### 세대별 적합도 최댓값을 나타내는 그래프"
   ]
  },
  {
   "cell_type": "code",
   "execution_count": 43,
   "metadata": {
    "scrolled": true
   },
   "outputs": [
    {
     "data": {
      "text/plain": [
       "<matplotlib.axes._subplots.AxesSubplot at 0x7ffd39a1cc88>"
      ]
     },
     "execution_count": 43,
     "metadata": {},
     "output_type": "execute_result"
    },
    {
     "data": {
      "image/png": "[encoded data removed]",
      "text/plain": [
       "<matplotlib.figure.Figure at 0x7ffd361fb7b8>"
      ]
     },
     "metadata": {},
     "output_type": "display_data"
    }
   ],
   "source": [
    "pd.Series([max(sorted(i, reverse=True)) for i in fitness_generation]).plot()"
   ]
  },
  {
   "cell_type": "markdown",
   "metadata": {},
   "source": [
    "# Solution"
   ]
  },
  {
   "cell_type": "code",
   "execution_count": 34,
   "metadata": {
    "scrolled": true
   },
   "outputs": [
    {
     "data": {
      "text/plain": [
       "[array([ 9,  7, 70, 29, 25, 38, 69, 32,  6, 16, 13, 50, 37, 39, 11, 34, 18,\n",
       "        52, 61,  1, 56, 63, 64,  2, 53, 58, 23,  8, 41, 49,  4, 51, 43, 20,\n",
       "        55,  3, 67, 30, 22, 68, 21, 35, 46, 65,  5, 14, 66, 10, 26, 33, 57,\n",
       "        31, 19, 36, 44, 59, 45, 28, 42, 27, 60, 62, 24, 17, 48, 40, 15, 12,\n",
       "        47, 54])]"
      ]
     },
     "execution_count": 34,
     "metadata": {},
     "output_type": "execute_result"
    }
   ],
   "source": [
    "[i for i in solution if fitness_eval(i, hex_index) == 0]"
   ]
  },
  {
   "cell_type": "code",
   "execution_count": 36,
   "metadata": {},
   "outputs": [],
   "source": [
    "tmp = np.array([ 9,  7, 70, 29, 25, 38, 69, 32,  6, 16, 13, 50, 37, 39, 11, 34, 18,\n",
    "        52, 61,  1, 56, 63, 64,  2, 53, 58, 23,  8, 41, 49,  4, 51, 43, 20,\n",
    "        55,  3, 67, 30, 22, 68, 21, 35, 46, 65,  5, 14, 66, 10, 26, 33, 57,\n",
    "        31, 19, 36, 44, 59, 45, 28, 42, 27, 60, 62, 24, 17, 48, 40, 15, 12,\n",
    "        47, 54])"
   ]
  },
  {
   "cell_type": "code",
   "execution_count": 37,
   "metadata": {
    "scrolled": false
   },
   "outputs": [
    {
     "name": "stdout",
     "output_type": "stream",
     "text": [
      "218\n",
      "218\n",
      "218\n",
      "218\n",
      "218\n",
      "218\n",
      "218\n",
      "218\n",
      "218\n",
      "218\n",
      "218\n",
      "218\n",
      "218\n",
      "218\n",
      "218\n",
      "218\n",
      "218\n",
      "218\n",
      "218\n",
      "218\n",
      "218\n",
      "218\n",
      "218\n",
      "218\n",
      "218\n"
     ]
    }
   ],
   "source": [
    "for i in hex_index:\n",
    "    print(sum(tmp[i]))"
   ]
  },
  {
   "cell_type": "code",
   "execution_count": null,
   "metadata": {},
   "outputs": [],
   "source": []
  }
 ],
 "metadata": {
  "kernelspec": {
   "display_name": "Python 3",
   "language": "python",
   "name": "python3"
  },
  "language_info": {
   "codemirror_mode": {
    "name": "ipython",
    "version": 3
   },
   "file_extension": ".py",
   "mimetype": "text/x-python",
   "name": "python",
   "nbconvert_exporter": "python",
   "pygments_lexer": "ipython3",
   "version": "3.7.0"
  }
 },
 "nbformat": 4,
 "nbformat_minor": 2
}
